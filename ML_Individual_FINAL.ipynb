{
 "cells": [
  {
   "cell_type": "markdown",
   "metadata": {},
   "source": [
    "<a id='Title'></a> \n",
    "<img src=\"title.png\">"
   ]
  },
  {
   "cell_type": "markdown",
   "metadata": {
    "ExecuteTime": {
     "end_time": "2019-07-22T05:03:42.673204Z",
     "start_time": "2019-07-22T05:03:42.668828Z"
    }
   },
   "source": [
    "# Executive Summary\n",
    "    \n"
   ]
  },
  {
   "cell_type": "markdown",
   "metadata": {},
   "source": [
    "In today’s digital world, most companies attempt to accomplish virality, because it provides great impact at a fraction of the cost. This study attempts to predict if an online article will be popular in terms of the number of shares it will get. This study used the statistics of Mashable online article from the UCI Machine Learning repository. The study was able to predict news popularity with a 97% accuracy, 98% f1 score for unpopular articles, and 72% f1 score for popular articles using SMOTEENN and Gradient Boosting Classifier. The study was able to identify the top predictors of popular articles and the direction of each feature. \n",
    "\n",
    "The findings of this study can be used by Mashable as a Decision Support Tool to guide its operations on engineering virality. The value of this tool is that the features used to predict the popularity can be extracted even before posting the article. This means that after going through the writing and editing process, they can test if the article will be popular using this tool. If the article will be unpopular, they have the option to edit it first guided by the insights from the SHAP summary plot."
   ]
  },
  {
   "cell_type": "markdown",
   "metadata": {},
   "source": [
    "<a id='top'></a>"
   ]
  },
  {
   "cell_type": "markdown",
   "metadata": {},
   "source": [
    "# Table of Contents\n"
   ]
  },
  {
   "cell_type": "markdown",
   "metadata": {},
   "source": [
    "1. [<font size=4.5>Introduction</font>](#Introduction) <br>\n",
    "2. [<font size=4.5>Data Description and Preprocessing</font>](#Data_Description_and_Processing) <br>\n",
    "3. [<font size=4.5>Exploratory Data Analysis</font>](#Exploratory_Data_Analysis) <br>\n",
    "4. [<font size=4.5>Data Balancing and Models Selection</font>](#Models_and_Results)<br>\n",
    "5. [<font size=4.5>Conclusion and Insights</font>](#Conclusion_and_Insights) <br>\n",
    "6. [<font size=4.5>Future Studies</font>](#Future_Studies)<br>\n",
    "7. [<font size=4.5>References</font>](#References)<br>\n",
    "8. [<font size=4.5>Acknowledgments</font>](#Acknowledgments)\n",
    "\n"
   ]
  },
  {
   "cell_type": "markdown",
   "metadata": {},
   "source": [
    "<font size=3> Loading the preliminary libraries."
   ]
  },
  {
   "cell_type": "code",
   "execution_count": 177,
   "metadata": {
    "ExecuteTime": {
     "end_time": "2019-08-20T09:25:29.512539Z",
     "start_time": "2019-08-20T09:25:29.503632Z"
    }
   },
   "outputs": [],
   "source": [
    "import pandas as pd\n",
    "import numpy as np\n",
    "import matplotlib.pyplot as plt\n",
    "import seaborn as sns\n",
    "import pickle\n",
    "import re\n",
    "from IPython.display import HTML\n",
    "from IPython.display import clear_output\n",
    "from collections import Counter\n",
    "\n",
    "from sklearn.model_selection import train_test_split\n",
    "from sklearn.preprocessing import MinMaxScaler\n",
    "from sklearn.preprocessing import StandardScaler, normalize\n",
    "from sklearn import model_selection, preprocessing\n",
    "\n",
    "\n",
    "from sklearn.ensemble import GradientBoostingClassifier\n",
    "from sklearn.neighbors import KNeighborsClassifier\n",
    "from sklearn.linear_model import LogisticRegression\n",
    "from sklearn.svm import LinearSVC, SVC\n",
    "from sklearn.ensemble import RandomForestClassifier\n",
    "from sklearn.tree import DecisionTreeClassifier\n",
    "from sklearn.naive_bayes import GaussianNB, BernoulliNB\n",
    "from sklearn.naive_bayes import MultinomialNB\n",
    "\n",
    "import mglearn\n",
    "import shap\n",
    "\n",
    "from imblearn.over_sampling import SMOTE\n",
    "from imblearn.under_sampling import RandomUnderSampler\n",
    "from imblearn.combine import SMOTEENN\n",
    "\n",
    "from warnings import filterwarnings\n",
    "filterwarnings('ignore')\n",
    "\n",
    "pd.set_option('display.max_colwidth', -1)\n",
    "pd.options.display.float_format = '{:,.4g}'.format\n",
    "import matplotlib\n",
    "matplotlib.rc('xtick', labelsize=20) \n",
    "matplotlib.rc('ytick', labelsize=20) "
   ]
  },
  {
   "cell_type": "markdown",
   "metadata": {},
   "source": [
    "<a id='Introduction'></a>"
   ]
  },
  {
   "cell_type": "markdown",
   "metadata": {},
   "source": [
    "# 1. Introduction</font> \n",
    "[Back to Table of Contents](#top)\n"
   ]
  },
  {
   "cell_type": "markdown",
   "metadata": {},
   "source": [
    "In today’s digital world, most companies attempt to accomplish virality, because it provides great impact at a fraction of the cost. This study attempts to predict if an online article will be popular in terms of the number of shares it will get. This study used the statistics of Mashable online article from the UCI Machine Learning repository.\n",
    "\n",
    "The original dataset was created by K. Fernandes, et al. on their study \"A Proactive Intelligent Decision Support System for Predicting the Popularity of Online News\" published in Springer International Publishing Switzerland 2015. The study discretized the dataset into two categories, unpopular and popular. They got the median 1,400 shares to discretized the two categories which produced two balanced classes. They tried to predict whether an article will be popular or not and achieved a 67% accuracy.\n",
    "\n",
    "This study proposed a different approach in discretizing the popularity. This study considered that only articles with more than 10,000 shares are popular. The popular articles are only 6% of the dataset which required some balancing before implementation of machine learning models.\n",
    "\n",
    "This will be the process flow of the study.\n",
    "1. Data Preprocessing \n",
    "2. Data Discretisation\n",
    "3. Data Balancing with Over and Under Sampling using SMOTE ENN\n",
    "4. Model Selection using GridSearch\n",
    "5. SHAP Feature Importance Analysis\n",
    "5. Results and Insights"
   ]
  },
  {
   "cell_type": "markdown",
   "metadata": {},
   "source": [
    "<a id='Data_Description_and_Processing'></a>"
   ]
  },
  {
   "cell_type": "markdown",
   "metadata": {},
   "source": [
    "# 2. Data Description and Preprocessing</font>\n",
    "[Back to Table of Contents](#top)\n"
   ]
  },
  {
   "cell_type": "markdown",
   "metadata": {},
   "source": [
    "The articles in the dataset were published and are owned by Mashable (www.mashable.com) \n",
    "Hence, this dataset does not share the original content but some statistics associated with it. The original content be publicly accessed and retrieved using the provided urls. \n",
    "\n",
    "The data covers a two year period from 2013-2015 with a  totoal of 39,000 articles. The authors extracted 47 features from the articles. They extracted features relatated to words used in the articles and digital media in the articles. They selected different statistics that were possibly relevant to the number of shares. It included statistics on presence of keywords that are present on articles with a high number for shares. They also extracted several Natural Language Processing (NLP) features. They applied Latent Dirichlet Allocation (LDA) algorithm to indicate the closeness of each article to the top five prevalent topics in Mashable.\n",
    "\n",
    "Link: https://archive.ics.uci.edu/ml/datasets/online+news+popularity\n"
   ]
  },
  {
   "cell_type": "code",
   "execution_count": 167,
   "metadata": {
    "ExecuteTime": {
     "end_time": "2019-08-20T09:24:15.640015Z",
     "start_time": "2019-08-20T09:24:15.251766Z"
    },
    "scrolled": true
   },
   "outputs": [
    {
     "data": {
      "text/html": [
       "<div>\n",
       "<style scoped>\n",
       "    .dataframe tbody tr th:only-of-type {\n",
       "        vertical-align: middle;\n",
       "    }\n",
       "\n",
       "    .dataframe tbody tr th {\n",
       "        vertical-align: top;\n",
       "    }\n",
       "\n",
       "    .dataframe thead th {\n",
       "        text-align: right;\n",
       "    }\n",
       "</style>\n",
       "<table border=\"1\" class=\"dataframe\">\n",
       "  <thead>\n",
       "    <tr style=\"text-align: right;\">\n",
       "      <th></th>\n",
       "      <th>url</th>\n",
       "      <th>timedelta</th>\n",
       "      <th>n_tokens_title</th>\n",
       "      <th>n_tokens_content</th>\n",
       "      <th>n_unique_tokens</th>\n",
       "      <th>n_non_stop_words</th>\n",
       "      <th>n_non_stop_unique_tokens</th>\n",
       "      <th>num_hrefs</th>\n",
       "      <th>num_self_hrefs</th>\n",
       "      <th>num_imgs</th>\n",
       "      <th>...</th>\n",
       "      <th>min_positive_polarity</th>\n",
       "      <th>max_positive_polarity</th>\n",
       "      <th>avg_negative_polarity</th>\n",
       "      <th>min_negative_polarity</th>\n",
       "      <th>max_negative_polarity</th>\n",
       "      <th>title_subjectivity</th>\n",
       "      <th>title_sentiment_polarity</th>\n",
       "      <th>abs_title_subjectivity</th>\n",
       "      <th>abs_title_sentiment_polarity</th>\n",
       "      <th>shares</th>\n",
       "    </tr>\n",
       "  </thead>\n",
       "  <tbody>\n",
       "    <tr>\n",
       "      <th>0</th>\n",
       "      <td>http://mashable.com/2013/01/07/amazon-instant-video-browser/</td>\n",
       "      <td>731</td>\n",
       "      <td>12</td>\n",
       "      <td>219</td>\n",
       "      <td>0.6636</td>\n",
       "      <td>1</td>\n",
       "      <td>0.8154</td>\n",
       "      <td>4</td>\n",
       "      <td>2</td>\n",
       "      <td>1</td>\n",
       "      <td>...</td>\n",
       "      <td>0.1</td>\n",
       "      <td>0.7</td>\n",
       "      <td>-0.35</td>\n",
       "      <td>-0.6</td>\n",
       "      <td>-0.2</td>\n",
       "      <td>0.5</td>\n",
       "      <td>-0.1875</td>\n",
       "      <td>0</td>\n",
       "      <td>0.1875</td>\n",
       "      <td>593</td>\n",
       "    </tr>\n",
       "    <tr>\n",
       "      <th>1</th>\n",
       "      <td>http://mashable.com/2013/01/07/ap-samsung-sponsored-tweets/</td>\n",
       "      <td>731</td>\n",
       "      <td>9</td>\n",
       "      <td>255</td>\n",
       "      <td>0.6047</td>\n",
       "      <td>1</td>\n",
       "      <td>0.7919</td>\n",
       "      <td>3</td>\n",
       "      <td>1</td>\n",
       "      <td>1</td>\n",
       "      <td>...</td>\n",
       "      <td>0.03333</td>\n",
       "      <td>0.7</td>\n",
       "      <td>-0.1187</td>\n",
       "      <td>-0.125</td>\n",
       "      <td>-0.1</td>\n",
       "      <td>0</td>\n",
       "      <td>0</td>\n",
       "      <td>0.5</td>\n",
       "      <td>0</td>\n",
       "      <td>711</td>\n",
       "    </tr>\n",
       "    <tr>\n",
       "      <th>2</th>\n",
       "      <td>http://mashable.com/2013/01/07/apple-40-billion-app-downloads/</td>\n",
       "      <td>731</td>\n",
       "      <td>9</td>\n",
       "      <td>211</td>\n",
       "      <td>0.5751</td>\n",
       "      <td>1</td>\n",
       "      <td>0.6639</td>\n",
       "      <td>3</td>\n",
       "      <td>1</td>\n",
       "      <td>1</td>\n",
       "      <td>...</td>\n",
       "      <td>0.1</td>\n",
       "      <td>1</td>\n",
       "      <td>-0.4667</td>\n",
       "      <td>-0.8</td>\n",
       "      <td>-0.1333</td>\n",
       "      <td>0</td>\n",
       "      <td>0</td>\n",
       "      <td>0.5</td>\n",
       "      <td>0</td>\n",
       "      <td>1500</td>\n",
       "    </tr>\n",
       "    <tr>\n",
       "      <th>3</th>\n",
       "      <td>http://mashable.com/2013/01/07/astronaut-notre-dame-bcs/</td>\n",
       "      <td>731</td>\n",
       "      <td>9</td>\n",
       "      <td>531</td>\n",
       "      <td>0.5038</td>\n",
       "      <td>1</td>\n",
       "      <td>0.6656</td>\n",
       "      <td>9</td>\n",
       "      <td>0</td>\n",
       "      <td>1</td>\n",
       "      <td>...</td>\n",
       "      <td>0.1364</td>\n",
       "      <td>0.8</td>\n",
       "      <td>-0.3697</td>\n",
       "      <td>-0.6</td>\n",
       "      <td>-0.1667</td>\n",
       "      <td>0</td>\n",
       "      <td>0</td>\n",
       "      <td>0.5</td>\n",
       "      <td>0</td>\n",
       "      <td>1200</td>\n",
       "    </tr>\n",
       "    <tr>\n",
       "      <th>4</th>\n",
       "      <td>http://mashable.com/2013/01/07/att-u-verse-apps/</td>\n",
       "      <td>731</td>\n",
       "      <td>13</td>\n",
       "      <td>1,072</td>\n",
       "      <td>0.4156</td>\n",
       "      <td>1</td>\n",
       "      <td>0.5409</td>\n",
       "      <td>19</td>\n",
       "      <td>19</td>\n",
       "      <td>20</td>\n",
       "      <td>...</td>\n",
       "      <td>0.03333</td>\n",
       "      <td>1</td>\n",
       "      <td>-0.2202</td>\n",
       "      <td>-0.5</td>\n",
       "      <td>-0.05</td>\n",
       "      <td>0.4545</td>\n",
       "      <td>0.1364</td>\n",
       "      <td>0.04545</td>\n",
       "      <td>0.1364</td>\n",
       "      <td>505</td>\n",
       "    </tr>\n",
       "  </tbody>\n",
       "</table>\n",
       "<p>5 rows × 61 columns</p>\n",
       "</div>"
      ],
      "text/plain": [
       "                                                              url   timedelta  \\\n",
       "0  http://mashable.com/2013/01/07/amazon-instant-video-browser/   731           \n",
       "1  http://mashable.com/2013/01/07/ap-samsung-sponsored-tweets/    731           \n",
       "2  http://mashable.com/2013/01/07/apple-40-billion-app-downloads/ 731           \n",
       "3  http://mashable.com/2013/01/07/astronaut-notre-dame-bcs/       731           \n",
       "4  http://mashable.com/2013/01/07/att-u-verse-apps/               731           \n",
       "\n",
       "    n_tokens_title   n_tokens_content   n_unique_tokens   n_non_stop_words  \\\n",
       "0 12               219                0.6636            1                    \n",
       "1 9                255                0.6047            1                    \n",
       "2 9                211                0.5751            1                    \n",
       "3 9                531                0.5038            1                    \n",
       "4 13               1,072              0.4156            1                    \n",
       "\n",
       "    n_non_stop_unique_tokens   num_hrefs   num_self_hrefs   num_imgs  ...  \\\n",
       "0 0.8154                     4           2                1           ...   \n",
       "1 0.7919                     3           1                1           ...   \n",
       "2 0.6639                     3           1                1           ...   \n",
       "3 0.6656                     9           0                1           ...   \n",
       "4 0.5409                     19          19               20          ...   \n",
       "\n",
       "    min_positive_polarity   max_positive_polarity   avg_negative_polarity  \\\n",
       "0 0.1                     0.7                     -0.35                     \n",
       "1 0.03333                 0.7                     -0.1187                   \n",
       "2 0.1                     1                       -0.4667                   \n",
       "3 0.1364                  0.8                     -0.3697                   \n",
       "4 0.03333                 1                       -0.2202                   \n",
       "\n",
       "    min_negative_polarity   max_negative_polarity   title_subjectivity  \\\n",
       "0 -0.6                    -0.2                    0.5                    \n",
       "1 -0.125                  -0.1                    0                      \n",
       "2 -0.8                    -0.1333                 0                      \n",
       "3 -0.6                    -0.1667                 0                      \n",
       "4 -0.5                    -0.05                   0.4545                 \n",
       "\n",
       "    title_sentiment_polarity   abs_title_subjectivity  \\\n",
       "0 -0.1875                    0                          \n",
       "1 0                          0.5                        \n",
       "2 0                          0.5                        \n",
       "3 0                          0.5                        \n",
       "4 0.1364                     0.04545                    \n",
       "\n",
       "    abs_title_sentiment_polarity   shares  \n",
       "0 0.1875                          593      \n",
       "1 0                               711      \n",
       "2 0                               1500     \n",
       "3 0                               1200     \n",
       "4 0.1364                          505      \n",
       "\n",
       "[5 rows x 61 columns]"
      ]
     },
     "metadata": {},
     "output_type": "display_data"
    },
    {
     "data": {
      "text/plain": [
       "(39644, 61)"
      ]
     },
     "metadata": {},
     "output_type": "display_data"
    }
   ],
   "source": [
    "df = pd.read_csv('OnlineNewsPopularity.csv')\n",
    "display(df.head(), df.shape)\n"
   ]
  },
  {
   "cell_type": "markdown",
   "metadata": {},
   "source": [
    "HEre are the features used in the dataset as taken from UCI Machine Learning Repository.\n"
   ]
  },
  {
   "cell_type": "markdown",
   "metadata": {
    "ExecuteTime": {
     "end_time": "2019-08-20T07:23:48.144338Z",
     "start_time": "2019-08-20T07:23:48.101883Z"
    }
   },
   "source": [
    "Attribute Information:\n",
    "\n",
    "Number of Attributes: 61 (58 predictive attributes, 2 non-predictive, 1 goal field) \n",
    "\n",
    "Attribute Information: \n",
    "0. url: URL of the article (non-predictive) \n",
    "1. timedelta: Days between the article publication and the dataset acquisition (non-predictive) \n",
    "2. n_tokens_title: Number of words in the title \n",
    "3. n_tokens_content: Number of words in the content \n",
    "4. n_unique_tokens: Rate of unique words in the content \n",
    "5. n_non_stop_words: Rate of non-stop words in the content \n",
    "6. n_non_stop_unique_tokens: Rate of unique non-stop words in the content \n",
    "7. num_hrefs: Number of links \n",
    "8. num_self_hrefs: Number of links to other articles published by Mashable \n",
    "9. num_imgs: Number of images \n",
    "10. num_videos: Number of videos \n",
    "11. average_token_length: Average length of the words in the content \n",
    "12. num_keywords: Number of keywords in the metadata \n",
    "13. data_channel_is_lifestyle: Is data channel 'Lifestyle'? \n",
    "14. data_channel_is_entertainment: Is data channel 'Entertainment'? \n",
    "15. data_channel_is_bus: Is data channel 'Business'? \n",
    "16. data_channel_is_socmed: Is data channel 'Social Media'? \n",
    "17. data_channel_is_tech: Is data channel 'Tech'? \n",
    "18. data_channel_is_world: Is data channel 'World'? \n",
    "19. kw_min_min: Worst keyword (min. shares) \n",
    "20. kw_max_min: Worst keyword (max. shares) \n",
    "21. kw_avg_min: Worst keyword (avg. shares) \n",
    "22. kw_min_max: Best keyword (min. shares) \n",
    "23. kw_max_max: Best keyword (max. shares) \n",
    "24. kw_avg_max: Best keyword (avg. shares) \n",
    "25. kw_min_avg: Avg. keyword (min. shares) \n",
    "26. kw_max_avg: Avg. keyword (max. shares) \n",
    "27. kw_avg_avg: Avg. keyword (avg. shares) \n",
    "28. self_reference_min_shares: Min. shares of referenced articles in Mashable \n",
    "29. self_reference_max_shares: Max. shares of referenced articles in Mashable \n",
    "30. self_reference_avg_sharess: Avg. shares of referenced articles in Mashable \n",
    "31. weekday_is_monday: Was the article published on a Monday? \n",
    "32. weekday_is_tuesday: Was the article published on a Tuesday? \n",
    "33. weekday_is_wednesday: Was the article published on a Wednesday? \n",
    "34. weekday_is_thursday: Was the article published on a Thursday? \n",
    "35. weekday_is_friday: Was the article published on a Friday? \n",
    "36. weekday_is_saturday: Was the article published on a Saturday? \n",
    "37. weekday_is_sunday: Was the article published on a Sunday? \n",
    "38. is_weekend: Was the article published on the weekend? \n",
    "39. LDA_00: Closeness to LDA topic 0 \n",
    "40. LDA_01: Closeness to LDA topic 1 \n",
    "41. LDA_02: Closeness to LDA topic 2 \n",
    "42. LDA_03: Closeness to LDA topic 3 \n",
    "43. LDA_04: Closeness to LDA topic 4 \n",
    "44. global_subjectivity: Text subjectivity \n",
    "45. global_sentiment_polarity: Text sentiment polarity \n",
    "46. global_rate_positive_words: Rate of positive words in the content \n",
    "47. global_rate_negative_words: Rate of negative words in the content \n",
    "48. rate_positive_words: Rate of positive words among non-neutral tokens \n",
    "49. rate_negative_words: Rate of negative words among non-neutral tokens \n",
    "50. avg_positive_polarity: Avg. polarity of positive words \n",
    "51. min_positive_polarity: Min. polarity of positive words \n",
    "52. max_positive_polarity: Max. polarity of positive words \n",
    "53. avg_negative_polarity: Avg. polarity of negative words \n",
    "54. min_negative_polarity: Min. polarity of negative words \n",
    "55. max_negative_polarity: Max. polarity of negative words \n",
    "56. title_subjectivity: Title subjectivity \n",
    "57. title_sentiment_polarity: Title polarity \n",
    "58. abs_title_subjectivity: Absolute subjectivity level \n",
    "59. abs_title_sentiment_polarity: Absolute polarity level \n",
    "60. shares: Number of shares (target)"
   ]
  },
  {
   "cell_type": "markdown",
   "metadata": {},
   "source": [
    "Check if there are null values that we need to correct."
   ]
  },
  {
   "cell_type": "code",
   "execution_count": 168,
   "metadata": {
    "ExecuteTime": {
     "end_time": "2019-08-20T09:24:16.307072Z",
     "start_time": "2019-08-20T09:24:16.289093Z"
    },
    "scrolled": true
   },
   "outputs": [
    {
     "data": {
      "text/plain": [
       "0"
      ]
     },
     "execution_count": 168,
     "metadata": {},
     "output_type": "execute_result"
    }
   ],
   "source": [
    "df.isnull().sum().sum()"
   ]
  },
  {
   "cell_type": "markdown",
   "metadata": {
    "ExecuteTime": {
     "end_time": "2019-08-20T07:40:25.108614Z",
     "start_time": "2019-08-20T07:40:25.103470Z"
    }
   },
   "source": [
    "No, null values. This is expected because the dataset from UCI is a clean dataset already."
   ]
  },
  {
   "cell_type": "markdown",
   "metadata": {},
   "source": [
    "<a id='Exploratory_Data_Analysis'></a>"
   ]
  },
  {
   "cell_type": "markdown",
   "metadata": {},
   "source": [
    "# 3. Exploratory Data Analysis</font> \n",
    "[Back to Table of Contents](#top)\n"
   ]
  },
  {
   "cell_type": "markdown",
   "metadata": {},
   "source": [
    "Let's look at the histogram plot of our target, the number of shares."
   ]
  },
  {
   "cell_type": "code",
   "execution_count": 169,
   "metadata": {
    "ExecuteTime": {
     "end_time": "2019-08-20T09:24:17.573982Z",
     "start_time": "2019-08-20T09:24:17.224897Z"
    },
    "scrolled": false
   },
   "outputs": [
    {
     "data": {
      "image/png": "[encoded data removed]",
      "text/plain": [
       "<Figure size 1440x576 with 1 Axes>"
      ]
     },
     "metadata": {
      "needs_background": "light"
     },
     "output_type": "display_data"
    }
   ],
   "source": [
    "plt.figure(figsize=[20,8])\n",
    "plt.rcParams['axes.facecolor']='white'\n",
    "\n",
    "fig = plt.hist(df[' shares'], bins=100, color='xkcd:azure');\n",
    "plt.title('Shares Histogram (All Articles)', fontsize=25);\n",
    "plt.xlabel('Shares', fontsize=20);"
   ]
  },
  {
   "cell_type": "markdown",
   "metadata": {},
   "source": [
    "Since it is rare to have an article that has a lot of shares. It is quite expected that the histogram will be heavily right skewed. Let's zoom in into the wall seen in the histogram above."
   ]
  },
  {
   "cell_type": "code",
   "execution_count": 170,
   "metadata": {
    "ExecuteTime": {
     "end_time": "2019-08-20T09:24:22.027381Z",
     "start_time": "2019-08-20T09:24:17.688208Z"
    },
    "scrolled": false
   },
   "outputs": [
    {
     "data": {
      "image/png": "[encoded data removed]",
      "text/plain": [
       "<Figure size 1440x576 with 1 Axes>"
      ]
     },
     "metadata": {
      "needs_background": "light"
     },
     "output_type": "display_data"
    }
   ],
   "source": [
    "plt.figure(figsize=[20,8])\n",
    "plt.rcParams['axes.facecolor']='white'\n",
    "fig = plt.hist(df[' shares'], bins=2500, color='xkcd:azure')\n",
    "\n",
    "plt.title('Shares Histogram (Articles with Less Than 20,000 Shares)', fontsize=25);\n",
    "plt.xlabel('Shares', fontsize=20);\n",
    "plt.axvline(10000, linestyle='--')\n",
    "plt.xlim(0,20000);"
   ]
  },
  {
   "cell_type": "markdown",
   "metadata": {},
   "source": [
    "We can see in the histogram that there are only few articles that get beyond 10,000 shares. In this study, let's take 10,000 shares as the threshold to identify if an article is popular or not."
   ]
  },
  {
   "cell_type": "code",
   "execution_count": 171,
   "metadata": {
    "ExecuteTime": {
     "end_time": "2019-08-20T09:24:28.698677Z",
     "start_time": "2019-08-20T09:24:22.031146Z"
    }
   },
   "outputs": [],
   "source": [
    "new_col = []\n",
    "for i in range(len(df)):\n",
    "    if df.iloc[i][' shares'] <= 10000:\n",
    "        new_col.append(0)\n",
    "    elif df.iloc[i][' shares'] > 10000:\n",
    "        new_col.append(1)\n",
    "df['target'] = new_col"
   ]
  },
  {
   "cell_type": "markdown",
   "metadata": {},
   "source": [
    "Let's check the proportion chance criteria to evaluate what's the probability of predicting the right class given the discretized dataset."
   ]
  },
  {
   "cell_type": "code",
   "execution_count": 209,
   "metadata": {
    "ExecuteTime": {
     "end_time": "2019-08-20T09:31:14.357276Z",
     "start_time": "2019-08-20T09:31:14.248212Z"
    },
    "scrolled": false
   },
   "outputs": [
    {
     "name": "stdout",
     "output_type": "stream",
     "text": [
      "Population per class:        0\n",
      "0  37459\n",
      "1  2185 \n",
      "\n",
      "Minority class: 5.5115528200988795%\n",
      "Proportion Chance Criterion: 89.58443864957705%\n",
      "1.25 * Proportion Chance Criterion: 111.9805483119713%\n"
     ]
    },
    {
     "data": {
      "image/png": "[encoded data removed]",
      "text/plain": [
       "<Figure size 432x288 with 1 Axes>"
      ]
     },
     "metadata": {
      "needs_background": "light"
     },
     "output_type": "display_data"
    }
   ],
   "source": [
    "state_counts = Counter(df['target'])\n",
    "df_state = pd.DataFrame.from_dict(state_counts, orient='index')\n",
    "df_state.plot(kind='bar')\n",
    "\n",
    "num=(df_state[0]/df_state[0].sum())**2\n",
    "print(\"Population per class: {}\\n\".format(df_state))\n",
    "print(\"Minority class: {}%\".format(100*(df_state.loc[1]/df_state.sum()).values[0]))\n",
    "print(\"Proportion Chance Criterion: {}%\".format(100*num.sum()))\n",
    "print(\"1.25 * Proportion Chance Criterion: {}%\".format(1.25*100*num.sum()))"
   ]
  },
  {
   "cell_type": "markdown",
   "metadata": {
    "ExecuteTime": {
     "end_time": "2019-08-20T09:08:44.197211Z",
     "start_time": "2019-08-20T09:08:44.190098Z"
    }
   },
   "source": [
    "We see that the popular class is only 5.5% of the population which shows that it is imbalanced. This also explains the high PPC of 89.58%. \n",
    "\n",
    "When predicting highly imbalanced datasets, it is easy to get a high accuracy but a very poor precision and recall. This indicates that balancing must be done in order to get a good precision and recall.\n",
    "\n",
    "Let's prepare our features and target data to be inputed in our train-test split, before we process with the data balancing."
   ]
  },
  {
   "cell_type": "markdown",
   "metadata": {},
   "source": [
    "<a id='Models_and_Results'></a>"
   ]
  },
  {
   "cell_type": "markdown",
   "metadata": {},
   "source": [
    "# 4. Data Balancing and Model Selection</font> \n",
    "[Back to Table of Contents](#top)\n"
   ]
  },
  {
   "cell_type": "code",
   "execution_count": 173,
   "metadata": {
    "ExecuteTime": {
     "end_time": "2019-08-20T09:24:28.839966Z",
     "start_time": "2019-08-20T09:24:28.821212Z"
    }
   },
   "outputs": [],
   "source": [
    "df_X = df.drop([' shares', 'url',' timedelta'], axis=1)"
   ]
  },
  {
   "cell_type": "code",
   "execution_count": 174,
   "metadata": {
    "ExecuteTime": {
     "end_time": "2019-08-20T09:24:28.883071Z",
     "start_time": "2019-08-20T09:24:28.842481Z"
    }
   },
   "outputs": [
    {
     "data": {
      "text/html": [
       "<div>\n",
       "<style scoped>\n",
       "    .dataframe tbody tr th:only-of-type {\n",
       "        vertical-align: middle;\n",
       "    }\n",
       "\n",
       "    .dataframe tbody tr th {\n",
       "        vertical-align: top;\n",
       "    }\n",
       "\n",
       "    .dataframe thead th {\n",
       "        text-align: right;\n",
       "    }\n",
       "</style>\n",
       "<table border=\"1\" class=\"dataframe\">\n",
       "  <thead>\n",
       "    <tr style=\"text-align: right;\">\n",
       "      <th></th>\n",
       "      <th>n_tokens_title</th>\n",
       "      <th>n_tokens_content</th>\n",
       "      <th>n_unique_tokens</th>\n",
       "      <th>n_non_stop_words</th>\n",
       "      <th>n_non_stop_unique_tokens</th>\n",
       "      <th>num_hrefs</th>\n",
       "      <th>num_self_hrefs</th>\n",
       "      <th>num_imgs</th>\n",
       "      <th>num_videos</th>\n",
       "      <th>average_token_length</th>\n",
       "      <th>...</th>\n",
       "      <th>avg_positive_polarity</th>\n",
       "      <th>min_positive_polarity</th>\n",
       "      <th>max_positive_polarity</th>\n",
       "      <th>avg_negative_polarity</th>\n",
       "      <th>min_negative_polarity</th>\n",
       "      <th>max_negative_polarity</th>\n",
       "      <th>title_subjectivity</th>\n",
       "      <th>title_sentiment_polarity</th>\n",
       "      <th>abs_title_subjectivity</th>\n",
       "      <th>abs_title_sentiment_polarity</th>\n",
       "    </tr>\n",
       "  </thead>\n",
       "  <tbody>\n",
       "    <tr>\n",
       "      <th>0</th>\n",
       "      <td>12</td>\n",
       "      <td>219</td>\n",
       "      <td>0.6636</td>\n",
       "      <td>1</td>\n",
       "      <td>0.8154</td>\n",
       "      <td>4</td>\n",
       "      <td>2</td>\n",
       "      <td>1</td>\n",
       "      <td>0</td>\n",
       "      <td>4.68</td>\n",
       "      <td>...</td>\n",
       "      <td>0.3786</td>\n",
       "      <td>0.1</td>\n",
       "      <td>0.7</td>\n",
       "      <td>-0.35</td>\n",
       "      <td>-0.6</td>\n",
       "      <td>-0.2</td>\n",
       "      <td>0.5</td>\n",
       "      <td>-0.1875</td>\n",
       "      <td>0</td>\n",
       "      <td>0.1875</td>\n",
       "    </tr>\n",
       "    <tr>\n",
       "      <th>1</th>\n",
       "      <td>9</td>\n",
       "      <td>255</td>\n",
       "      <td>0.6047</td>\n",
       "      <td>1</td>\n",
       "      <td>0.7919</td>\n",
       "      <td>3</td>\n",
       "      <td>1</td>\n",
       "      <td>1</td>\n",
       "      <td>0</td>\n",
       "      <td>4.914</td>\n",
       "      <td>...</td>\n",
       "      <td>0.2869</td>\n",
       "      <td>0.03333</td>\n",
       "      <td>0.7</td>\n",
       "      <td>-0.1187</td>\n",
       "      <td>-0.125</td>\n",
       "      <td>-0.1</td>\n",
       "      <td>0</td>\n",
       "      <td>0</td>\n",
       "      <td>0.5</td>\n",
       "      <td>0</td>\n",
       "    </tr>\n",
       "    <tr>\n",
       "      <th>2</th>\n",
       "      <td>9</td>\n",
       "      <td>211</td>\n",
       "      <td>0.5751</td>\n",
       "      <td>1</td>\n",
       "      <td>0.6639</td>\n",
       "      <td>3</td>\n",
       "      <td>1</td>\n",
       "      <td>1</td>\n",
       "      <td>0</td>\n",
       "      <td>4.393</td>\n",
       "      <td>...</td>\n",
       "      <td>0.4958</td>\n",
       "      <td>0.1</td>\n",
       "      <td>1</td>\n",
       "      <td>-0.4667</td>\n",
       "      <td>-0.8</td>\n",
       "      <td>-0.1333</td>\n",
       "      <td>0</td>\n",
       "      <td>0</td>\n",
       "      <td>0.5</td>\n",
       "      <td>0</td>\n",
       "    </tr>\n",
       "    <tr>\n",
       "      <th>3</th>\n",
       "      <td>9</td>\n",
       "      <td>531</td>\n",
       "      <td>0.5038</td>\n",
       "      <td>1</td>\n",
       "      <td>0.6656</td>\n",
       "      <td>9</td>\n",
       "      <td>0</td>\n",
       "      <td>1</td>\n",
       "      <td>0</td>\n",
       "      <td>4.405</td>\n",
       "      <td>...</td>\n",
       "      <td>0.386</td>\n",
       "      <td>0.1364</td>\n",
       "      <td>0.8</td>\n",
       "      <td>-0.3697</td>\n",
       "      <td>-0.6</td>\n",
       "      <td>-0.1667</td>\n",
       "      <td>0</td>\n",
       "      <td>0</td>\n",
       "      <td>0.5</td>\n",
       "      <td>0</td>\n",
       "    </tr>\n",
       "    <tr>\n",
       "      <th>4</th>\n",
       "      <td>13</td>\n",
       "      <td>1,072</td>\n",
       "      <td>0.4156</td>\n",
       "      <td>1</td>\n",
       "      <td>0.5409</td>\n",
       "      <td>19</td>\n",
       "      <td>19</td>\n",
       "      <td>20</td>\n",
       "      <td>0</td>\n",
       "      <td>4.683</td>\n",
       "      <td>...</td>\n",
       "      <td>0.4111</td>\n",
       "      <td>0.03333</td>\n",
       "      <td>1</td>\n",
       "      <td>-0.2202</td>\n",
       "      <td>-0.5</td>\n",
       "      <td>-0.05</td>\n",
       "      <td>0.4545</td>\n",
       "      <td>0.1364</td>\n",
       "      <td>0.04545</td>\n",
       "      <td>0.1364</td>\n",
       "    </tr>\n",
       "  </tbody>\n",
       "</table>\n",
       "<p>5 rows × 58 columns</p>\n",
       "</div>"
      ],
      "text/plain": [
       "    n_tokens_title   n_tokens_content   n_unique_tokens   n_non_stop_words  \\\n",
       "0 12               219                0.6636            1                    \n",
       "1 9                255                0.6047            1                    \n",
       "2 9                211                0.5751            1                    \n",
       "3 9                531                0.5038            1                    \n",
       "4 13               1,072              0.4156            1                    \n",
       "\n",
       "    n_non_stop_unique_tokens   num_hrefs   num_self_hrefs   num_imgs  \\\n",
       "0 0.8154                     4           2                1            \n",
       "1 0.7919                     3           1                1            \n",
       "2 0.6639                     3           1                1            \n",
       "3 0.6656                     9           0                1            \n",
       "4 0.5409                     19          19               20           \n",
       "\n",
       "    num_videos   average_token_length  ...   avg_positive_polarity  \\\n",
       "0 0            4.68                    ... 0.3786                    \n",
       "1 0            4.914                   ... 0.2869                    \n",
       "2 0            4.393                   ... 0.4958                    \n",
       "3 0            4.405                   ... 0.386                     \n",
       "4 0            4.683                   ... 0.4111                    \n",
       "\n",
       "    min_positive_polarity   max_positive_polarity   avg_negative_polarity  \\\n",
       "0 0.1                     0.7                     -0.35                     \n",
       "1 0.03333                 0.7                     -0.1187                   \n",
       "2 0.1                     1                       -0.4667                   \n",
       "3 0.1364                  0.8                     -0.3697                   \n",
       "4 0.03333                 1                       -0.2202                   \n",
       "\n",
       "    min_negative_polarity   max_negative_polarity   title_subjectivity  \\\n",
       "0 -0.6                    -0.2                    0.5                    \n",
       "1 -0.125                  -0.1                    0                      \n",
       "2 -0.8                    -0.1333                 0                      \n",
       "3 -0.6                    -0.1667                 0                      \n",
       "4 -0.5                    -0.05                   0.4545                 \n",
       "\n",
       "    title_sentiment_polarity   abs_title_subjectivity  \\\n",
       "0 -0.1875                    0                          \n",
       "1 0                          0.5                        \n",
       "2 0                          0.5                        \n",
       "3 0                          0.5                        \n",
       "4 0.1364                     0.04545                    \n",
       "\n",
       "    abs_title_sentiment_polarity  \n",
       "0 0.1875                          \n",
       "1 0                               \n",
       "2 0                               \n",
       "3 0                               \n",
       "4 0.1364                          \n",
       "\n",
       "[5 rows x 58 columns]"
      ]
     },
     "metadata": {},
     "output_type": "display_data"
    },
    {
     "data": {
      "text/plain": [
       "(39644, 58)"
      ]
     },
     "metadata": {},
     "output_type": "display_data"
    }
   ],
   "source": [
    "df_target = df['target']\n",
    "df_features = df.drop([' shares', 'url','target',' timedelta'], axis=1)\n",
    "feature_names = df_features.columns\n",
    "X = df_features[feature_names]\n",
    "y = df_target\n",
    "\n",
    "display(X.head(), X.shape)\n",
    "# display(y.head(), y.shape)"
   ]
  },
  {
   "cell_type": "markdown",
   "metadata": {},
   "source": [
    "# Combined Over and Under Sampling using SMOTEENN"
   ]
  },
  {
   "cell_type": "markdown",
   "metadata": {},
   "source": [
    " There are three common ways of balancing data. Oversampling, undersampling, and combined over and under sampling. The best result obtained for the study is combined over and under sampling using SMOTEENN.\n"
   ]
  },
  {
   "cell_type": "markdown",
   "metadata": {},
   "source": [
    "SMOTE stands for Synthetic Minority Over-sampling Technique. It generates samples by the minority's k nearest neighbors instead of oversampling with replacement. However this is naive of the underlying distribution and can produce noisy samples. A technique called Edited Nearest Neighbors (ENN) applies under-sampling to clean the noisy samples after. \n",
    "\n",
    "Link: https://imbalanced-learn.readthedocs.io/en/stable/generated/imblearn.combine.SMOTEENN.html"
   ]
  },
  {
   "cell_type": "code",
   "execution_count": 175,
   "metadata": {
    "ExecuteTime": {
     "end_time": "2019-08-20T09:24:35.576004Z",
     "start_time": "2019-08-20T09:24:28.885460Z"
    }
   },
   "outputs": [
    {
     "data": {
      "text/plain": [
       "(43906, 58)"
      ]
     },
     "metadata": {},
     "output_type": "display_data"
    },
    {
     "data": {
      "text/plain": [
       "25084"
      ]
     },
     "execution_count": 175,
     "metadata": {},
     "output_type": "execute_result"
    }
   ],
   "source": [
    "X_train, X_val, y_train, y_val = model_selection.train_test_split(X, y,\n",
    "                                                            random_state=1)\n",
    "# sampler = RandomUnderSampler()\n",
    "# sampler = SMOTE()\n",
    "sampler = SMOTEENN(sampling_strategy='not majority',random_state=0)\n",
    "X_train, y_train = sampler.fit_sample(X_train, y_train)\n",
    "display(X_train.shape)\n",
    "y_train.sum()"
   ]
  },
  {
   "cell_type": "code",
   "execution_count": 176,
   "metadata": {
    "ExecuteTime": {
     "end_time": "2019-08-20T09:24:35.713777Z",
     "start_time": "2019-08-20T09:24:35.577791Z"
    },
    "scrolled": false
   },
   "outputs": [
    {
     "data": {
      "text/plain": [
       "'Population per class:        0\\n0  18822\\n1  25084\\n'"
      ]
     },
     "metadata": {},
     "output_type": "display_data"
    },
    {
     "data": {
      "text/plain": [
       "'Minority class: 57.131143807224525%'"
      ]
     },
     "metadata": {},
     "output_type": "display_data"
    },
    {
     "data": {
      "text/plain": [
       "'Proportion Chance Criterion: 51.01706423998633%'"
      ]
     },
     "metadata": {},
     "output_type": "display_data"
    },
    {
     "data": {
      "text/plain": [
       "'1.25 * Proportion Chance Criterion: 63.771330299982914%'"
      ]
     },
     "metadata": {},
     "output_type": "display_data"
    },
    {
     "data": {
      "image/png": "[encoded data removed]",
      "text/plain": [
       "<Figure size 432x288 with 1 Axes>"
      ]
     },
     "metadata": {
      "needs_background": "light"
     },
     "output_type": "display_data"
    }
   ],
   "source": [
    "import numpy as np\n",
    "from collections import Counter\n",
    "state_counts = Counter(y_train)\n",
    "df_state = pd.DataFrame.from_dict(state_counts, orient='index')\n",
    "df_state.plot(kind='bar')\n",
    "\n",
    "num=(df_state[0]/df_state[0].sum())**2\n",
    "display(\"Population per class: {}\\n\".format(df_state))\n",
    "display(\"Minority class: {}%\".format(100*(df_state.loc[1]/df_state.sum()).values[0]))\n",
    "display(\"Proportion Chance Criterion: {}%\".format(100*num.sum()))\n",
    "display(\"1.25 * Proportion Chance Criterion: {}%\".format(1.25*100*num.sum()))"
   ]
  },
  {
   "cell_type": "markdown",
   "metadata": {},
   "source": [
    "The data looks balanced now. And we can see that the 1.25*PCC is 64%."
   ]
  },
  {
   "cell_type": "markdown",
   "metadata": {},
   "source": [
    "Now that our data has been preprocessed, let's run it using three machine learning classifier models: Logistic Regression with L1 regularization, Decision Tree, and Gradient Boosting.\n",
    "\n",
    "Logistic Regression with L1 regularization is a fast, simple and very interpretable error based learning model.\n",
    "Decision Trees are fast and easy to understand and implement information based learning model.\n",
    "Gradient Boosting is recognized as one of the best performing alogrithm next to xgboost that uses weaker decision trees and increasingly build from it.\n",
    "\n",
    "Let's use Grid Search to find the optimal hyperparameters with the highest accuracy. The Grid Search will be using the default 5 fold cross validation."
   ]
  },
  {
   "cell_type": "code",
   "execution_count": 117,
   "metadata": {
    "ExecuteTime": {
     "end_time": "2019-08-20T07:49:46.395432Z",
     "start_time": "2019-08-20T07:49:46.385772Z"
    }
   },
   "outputs": [],
   "source": [
    "cl1 = KNeighborsClassifier(n_jobs=-1)\n",
    "cl2 = LogisticRegression(penalty='l1', max_iter=1000,\n",
    "                         solver='liblinear', n_jobs=-1)\n",
    "cl3 = LogisticRegression(penalty='l2', max_iter=1000, n_jobs=-1)\n",
    "cl4 = LinearSVC(penalty='l1', dual=False, max_iter=10000)\n",
    "cl5 = LinearSVC(penalty='l2', max_iter=10000)\n",
    "cl6 = SVC(kernel='rbf', )\n",
    "cl7 = SVC(kernel='poly', degree=3)\n",
    "cl8 = DecisionTreeClassifier()\n",
    "cl9 = RandomForestClassifier(n_estimators=500, n_jobs=-1)\n",
    "cl10 = GradientBoostingClassifier(n_estimators=500)\n",
    "\n",
    "kneighbors = range(1, 31)\n",
    "C_list = np.logspace(-5, 5, num=10)\n",
    "gamma_list = np.logspace(-5, 5, num=10)\n",
    "learning_rate_list = [.2, 0.1, 0.05]\n",
    "max_depth_list = [3, 4, 6]\n",
    "min_samples_leaf_list = [2, 3, 4]\n",
    "max_features_list = [.5, .3, .2]\n",
    "\n",
    "estimators = [('Logistic Regression (L1)', cl2, {'C': C_list}),\n",
    "              ('Decision Tree', cl8, {'max_depth': max_depth_list}),\n",
    "              ('Gradient Boosting', cl10, {'learning_rate': learning_rate_list, 'max_depth': max_depth_list, 'min_samples_leaf': min_samples_leaf_list, 'max_features': max_features_list})]"
   ]
  },
  {
   "cell_type": "code",
   "execution_count": 118,
   "metadata": {
    "ExecuteTime": {
     "end_time": "2019-08-20T07:57:57.594258Z",
     "start_time": "2019-08-20T07:49:46.845769Z"
    },
    "scrolled": false
   },
   "outputs": [
    {
     "name": "stdout",
     "output_type": "stream",
     "text": [
      "Training ('Logistic Regression (L1)', LogisticRegression(C=1.0, class_weight=None, dual=False, fit_intercept=True,\n",
      "                   intercept_scaling=1, l1_ratio=None, max_iter=1000,\n",
      "                   multi_class='warn', n_jobs=-1, penalty='l1',\n",
      "                   random_state=None, solver='liblinear', tol=0.0001, verbose=0,\n",
      "                   warm_start=False), {'C': array([1.00000000e-05, 1.29154967e-04, 1.66810054e-03, 2.15443469e-02,\n",
      "       2.78255940e-01, 3.59381366e+00, 4.64158883e+01, 5.99484250e+02,\n",
      "       7.74263683e+03, 1.00000000e+05])})\n",
      "\n",
      "Fitting 5 folds for each of 10 candidates, totalling 50 fits\n"
     ]
    },
    {
     "name": "stderr",
     "output_type": "stream",
     "text": [
      "[Parallel(n_jobs=-1)]: Using backend LokyBackend with 4 concurrent workers.\n",
      "[Parallel(n_jobs=-1)]: Done  42 tasks      | elapsed:  1.4min\n",
      "[Parallel(n_jobs=-1)]: Done  50 out of  50 | elapsed:  1.7min finished\n"
     ]
    },
    {
     "name": "stdout",
     "output_type": "stream",
     "text": [
      "Training ('Decision Tree', DecisionTreeClassifier(class_weight=None, criterion='gini', max_depth=None,\n",
      "                       max_features=None, max_leaf_nodes=None,\n",
      "                       min_impurity_decrease=0.0, min_impurity_split=None,\n",
      "                       min_samples_leaf=1, min_samples_split=2,\n",
      "                       min_weight_fraction_leaf=0.0, presort=False,\n",
      "                       random_state=None, splitter='best'), {'max_depth': [6]})\n",
      "\n",
      "Fitting 5 folds for each of 1 candidates, totalling 5 fits\n"
     ]
    },
    {
     "name": "stderr",
     "output_type": "stream",
     "text": [
      "[Parallel(n_jobs=-1)]: Using backend LokyBackend with 4 concurrent workers.\n",
      "[Parallel(n_jobs=-1)]: Done   5 out of   5 | elapsed:    2.0s finished\n"
     ]
    },
    {
     "name": "stdout",
     "output_type": "stream",
     "text": [
      "Training ('Gradient Boosting', GradientBoostingClassifier(criterion='friedman_mse', init=None,\n",
      "                           learning_rate=0.1, loss='deviance', max_depth=3,\n",
      "                           max_features=None, max_leaf_nodes=None,\n",
      "                           min_impurity_decrease=0.0, min_impurity_split=None,\n",
      "                           min_samples_leaf=1, min_samples_split=2,\n",
      "                           min_weight_fraction_leaf=0.0, n_estimators=500,\n",
      "                           n_iter_no_change=None, presort='auto',\n",
      "                           random_state=None, subsample=1.0, tol=0.0001,\n",
      "                           validation_fraction=0.1, verbose=0,\n",
      "                           warm_start=False), {'learning_rate': [0.1], 'max_depth': [6], 'min_samples_leaf': [4], 'max_features': [0.5]})\n",
      "\n",
      "Fitting 5 folds for each of 1 candidates, totalling 5 fits\n"
     ]
    },
    {
     "name": "stderr",
     "output_type": "stream",
     "text": [
      "[Parallel(n_jobs=-1)]: Using backend LokyBackend with 4 concurrent workers.\n",
      "[Parallel(n_jobs=-1)]: Done   5 out of   5 | elapsed:  4.4min finished\n"
     ]
    }
   ],
   "source": [
    "models = {}\n",
    "for est in estimators:\n",
    "    print(f'Training {est}\\n')\n",
    "    gs_cv = model_selection.GridSearchCV(est[1], param_grid=est[2], n_jobs=-1, cv=5, verbose=1)\n",
    "    gs_cv.fit(X_train, y_train)\n",
    "    models[est[0]] = gs_cv"
   ]
  },
  {
   "cell_type": "code",
   "execution_count": 119,
   "metadata": {
    "ExecuteTime": {
     "end_time": "2019-08-20T07:57:57.747822Z",
     "start_time": "2019-08-20T07:57:57.598161Z"
    }
   },
   "outputs": [],
   "source": [
    "cols = ['Machine Learning Method', 'Test Accuracy',\n",
    "        'Best Parameter', 'Top Predictor Variable']\n",
    "df = pd.DataFrame(columns=cols)\n",
    "\n",
    "for i, m in enumerate(models):\n",
    "    \n",
    "    try:\n",
    "        top_predictor = X.columns[\n",
    "            np.argmax(np.abs(models[m].best_estimator_.coef_))]\n",
    "\n",
    "    except AttributeError:\n",
    "        top_predictor = np.nan\n",
    "    \n",
    "    df.loc[i] = [m, \n",
    "                 models[m].best_estimator_.score(X_val, y_val),\n",
    "                 models[m].best_params_ ,\n",
    "                 top_predictor]"
   ]
  },
  {
   "cell_type": "markdown",
   "metadata": {},
   "source": [
    "<a id='Results'></a>"
   ]
  },
  {
   "cell_type": "markdown",
   "metadata": {},
   "source": [
    "## 4.1 Results</font> \n",
    "[Back to Table of Contents](#top)\n"
   ]
  },
  {
   "cell_type": "code",
   "execution_count": 120,
   "metadata": {
    "ExecuteTime": {
     "end_time": "2019-08-20T07:57:57.758883Z",
     "start_time": "2019-08-20T07:57:57.749809Z"
    },
    "scrolled": true
   },
   "outputs": [
    {
     "data": {
      "text/html": [
       "<div>\n",
       "<style scoped>\n",
       "    .dataframe tbody tr th:only-of-type {\n",
       "        vertical-align: middle;\n",
       "    }\n",
       "\n",
       "    .dataframe tbody tr th {\n",
       "        vertical-align: top;\n",
       "    }\n",
       "\n",
       "    .dataframe thead th {\n",
       "        text-align: right;\n",
       "    }\n",
       "</style>\n",
       "<table border=\"1\" class=\"dataframe\">\n",
       "  <thead>\n",
       "    <tr style=\"text-align: right;\">\n",
       "      <th></th>\n",
       "      <th>Machine Learning Method</th>\n",
       "      <th>Test Accuracy</th>\n",
       "      <th>Best Parameter</th>\n",
       "      <th>Top Predictor Variable</th>\n",
       "    </tr>\n",
       "  </thead>\n",
       "  <tbody>\n",
       "    <tr>\n",
       "      <th>0</th>\n",
       "      <td>Logistic Regression (L1)</td>\n",
       "      <td>0.607</td>\n",
       "      <td>{'C': 3.593813663804626}</td>\n",
       "      <td>global_rate_positive_words</td>\n",
       "    </tr>\n",
       "    <tr>\n",
       "      <th>1</th>\n",
       "      <td>Decision Tree</td>\n",
       "      <td>0.7807</td>\n",
       "      <td>{'max_depth': 6}</td>\n",
       "      <td>NaN</td>\n",
       "    </tr>\n",
       "    <tr>\n",
       "      <th>2</th>\n",
       "      <td>Gradient Boosting</td>\n",
       "      <td>0.9326</td>\n",
       "      <td>{'learning_rate': 0.1, 'max_depth': 6, 'max_features': 0.5, 'min_samples_leaf': 4}</td>\n",
       "      <td>NaN</td>\n",
       "    </tr>\n",
       "  </tbody>\n",
       "</table>\n",
       "</div>"
      ],
      "text/plain": [
       "    Machine Learning Method  Test Accuracy  \\\n",
       "0  Logistic Regression (L1) 0.607            \n",
       "1  Decision Tree            0.7807           \n",
       "2  Gradient Boosting        0.9326           \n",
       "\n",
       "                                                                       Best Parameter  \\\n",
       "0  {'C': 3.593813663804626}                                                             \n",
       "1  {'max_depth': 6}                                                                     \n",
       "2  {'learning_rate': 0.1, 'max_depth': 6, 'max_features': 0.5, 'min_samples_leaf': 4}   \n",
       "\n",
       "        Top Predictor Variable  \n",
       "0   global_rate_positive_words  \n",
       "1  NaN                          \n",
       "2  NaN                          "
      ]
     },
     "execution_count": 120,
     "metadata": {},
     "output_type": "execute_result"
    }
   ],
   "source": [
    "df"
   ]
  },
  {
   "cell_type": "markdown",
   "metadata": {},
   "source": [
    "The results show that Gradient Boosting achieved the highest accuracy with 93.26%. Let's look at the confusion matrix to see the actual performance of the model in identifying the popular and unpopular articles."
   ]
  },
  {
   "cell_type": "markdown",
   "metadata": {},
   "source": [
    "# CONFUSION MATRIX"
   ]
  },
  {
   "cell_type": "code",
   "execution_count": 124,
   "metadata": {
    "ExecuteTime": {
     "end_time": "2019-08-20T08:11:05.533881Z",
     "start_time": "2019-08-20T08:04:19.373657Z"
    }
   },
   "outputs": [
    {
     "name": "stdout",
     "output_type": "stream",
     "text": [
      "49\n"
     ]
    },
    {
     "data": {
      "text/plain": [
       "0.9701866612854404"
      ]
     },
     "metadata": {},
     "output_type": "display_data"
    },
    {
     "data": {
      "image/png": "[encoded data removed]",
      "text/plain": [
       "<Figure size 180x180 with 1 Axes>"
      ]
     },
     "metadata": {
      "needs_background": "light"
     },
     "output_type": "display_data"
    },
    {
     "name": "stdout",
     "output_type": "stream",
     "text": [
      "              precision    recall  f1-score   support\n",
      "\n",
      "           0       0.98      0.98      0.98      9349\n",
      "           1       0.74      0.70      0.72       562\n",
      "\n",
      "    accuracy                           0.97      9911\n",
      "   macro avg       0.86      0.84      0.85      9911\n",
      "weighted avg       0.97      0.97      0.97      9911\n",
      "\n"
     ]
    }
   ],
   "source": [
    "import xgboost\n",
    "from sklearn.metrics import confusion_matrix\n",
    "from sklearn.model_selection import train_test_split\n",
    "confmat = {}\n",
    "score = []\n",
    "for i in range(50):\n",
    "    clear_output()\n",
    "    print(i)\n",
    "    X_train, X_test, y_train, y_test = train_test_split(X, y, test_size = 0.25, random_state = i)\n",
    "    sampler = SMOTEENN(sampling_strategy='not majority',random_state=0)\n",
    "    X_train, y_train = sampler.fit_sample(X_train, y_train)\n",
    "#     reg = GradientBoostingClassifier(learning_rate=0.1, max_depth=6, max_features=0.5, min_samples_leaf=4)\n",
    "#     reg.fit(X_train, y_train)\n",
    "    y_pred = models['Gradient Boosting'].best_estimator_.predict(X_test)\n",
    "    score.append(models['Gradient Boosting'].best_estimator_.score(X_test,y_test))\n",
    "    confmat[i] = confusion_matrix(y_true=y_test, y_pred=y_pred)\n",
    "    \n",
    "display(np.mean(score))\n",
    "lahat = np.zeros(shape=(2,2))\n",
    "for i in range(50):\n",
    "    lahat += confmat[i]\n",
    "    \n",
    "confmat = lahat/50\n",
    "fig, ax = plt.subplots(figsize=(2.5, 2.5))\n",
    "ax.matshow(confmat, cmap=plt.cm.Blues, alpha=0.3)\n",
    "for i in range(confmat.shape[0]):\n",
    "    for j in range(confmat.shape[1]):\n",
    "        ax.text(x=j, y=i, s=confmat[i, j], va='center', ha='center')\n",
    "plt.xlabel('predicted label')\n",
    "plt.ylabel('true label')\n",
    "plt.show()\n",
    "\n",
    "from sklearn.metrics import classification_report\n",
    "print(classification_report(y_test, y_pred))"
   ]
  },
  {
   "cell_type": "markdown",
   "metadata": {},
   "source": [
    "The confusion matrix shows that the model was able to predict 70% of the popular articles with a 70% precision.\n",
    "It shows that the model was able to predict 98% of the unpopular articles with a 98% precision.\n",
    "\n",
    "This shows that the model is better in identifying the majority class than the minority class. However, it is important to note that this is a big improvement from the 1% recall obtained when no balancing and oversampling were used."
   ]
  },
  {
   "cell_type": "markdown",
   "metadata": {},
   "source": [
    "# FEATURE IMPORTANCE"
   ]
  },
  {
   "cell_type": "markdown",
   "metadata": {},
   "source": [
    "We will use SHAP to further interpret how features impact the prediction. SHAP is a library that was created to help solve the interpretability of ensembles.\n",
    "\n",
    "Let's make an instant of the SHAP TreeExplainer using the model we got from our model selection.\n",
    "\n",
    "Let's look at the usual feature importance chart first."
   ]
  },
  {
   "cell_type": "code",
   "execution_count": 55,
   "metadata": {
    "ExecuteTime": {
     "end_time": "2019-08-19T20:52:52.253494Z",
     "start_time": "2019-08-19T20:52:52.241880Z"
    }
   },
   "outputs": [],
   "source": [
    "import shap\n",
    "# reg - change this to the object of your classifier\n",
    "reg = GradientBoostingClassifier(learning_rate=0.1, max_depth=6, max_features=0.5, min_samples_leaf=4)\n",
    "reg.fit(X_train, y_train)\n",
    "explainer = shap.TreeExplainer(reg)\n",
    "shap_values = explainer.shap_values(X)"
   ]
  },
  {
   "cell_type": "code",
   "execution_count": 77,
   "metadata": {
    "ExecuteTime": {
     "end_time": "2019-08-14T08:32:10.266395Z",
     "start_time": "2019-08-14T08:32:10.013360Z"
    },
    "scrolled": false
   },
   "outputs": [
    {
     "data": {
      "image/png": "[encoded data removed]",
      "text/plain": [
       "<Figure size 576x684 with 1 Axes>"
      ]
     },
     "metadata": {},
     "output_type": "display_data"
    }
   ],
   "source": [
    "shap.summary_plot(shap_values, X, plot_type=\"bar\")"
   ]
  },
  {
   "cell_type": "markdown",
   "metadata": {},
   "source": [
    "The feature importance plot is useful because it ranks the features that have the most impact to the target. It accounts for all the instances in the dataset and summarizes how each feature impacts the prediction collectively. We see here that the high number of videos and weekday posts are very important features.\n",
    "\n",
    "However, we are posed with a challenge in interpretation of a positive or negative correlation because there is not direction indicated in the feature importance.\n",
    "\n",
    "This is where the SHAP package is very useful. Let's show the SHAP summary plot for the top 10 features."
   ]
  },
  {
   "cell_type": "code",
   "execution_count": 62,
   "metadata": {
    "ExecuteTime": {
     "end_time": "2019-08-19T22:44:55.941323Z",
     "start_time": "2019-08-19T22:44:49.167734Z"
    },
    "scrolled": false
   },
   "outputs": [
    {
     "data": {
      "image/png": "[encoded data removed]",
      "text/plain": [
       "<Figure size 576x396 with 2 Axes>"
      ]
     },
     "metadata": {
      "needs_background": "light"
     },
     "output_type": "display_data"
    }
   ],
   "source": [
    "shap.summary_plot(shap_values, X, max_display=10)\n"
   ]
  },
  {
   "cell_type": "markdown",
   "metadata": {},
   "source": [
    "The SHAPsummary plot above shows the top 10 features and its correspodning impact to the target. The plot is like a horizontal violinplot, where each point in the plot is an instance.\n",
    "\n",
    "Let's take `num_videos` as an example. A high value of the `num_videos` feature would correspond to a more pink color and a lower value would correspond to a blue color. The point will be plotted on the positive SHAP x-axis if the impact is positive, meaning it is popular. And it will be plotted on the negative SHAP x-axis if the impact is negative, meaning it is unpopular. \n",
    "\n",
    "This gives us the interpretation that `num_videos`, `kw_max_avg`, and `LDA_03` are positively correalted with popularity and they are the top three most important features. Additionally, weekday posts are negatively correlated with popularity and they are within the top ten most important features. \n",
    "\n",
    "Although it is still hard to interpret features like title_subjectivity where the impact is not clearly separated. This makes the feature unreliable to be used as basis or manipulated.\n",
    "\n",
    "This is a great additional insight compared to just looking at the feature importance graph that has no direction."
   ]
  },
  {
   "cell_type": "markdown",
   "metadata": {},
   "source": [
    "From this summary plot we can summarize the findings as the following Call to Actions."
   ]
  },
  {
   "cell_type": "markdown",
   "metadata": {
    "ExecuteTime": {
     "end_time": "2019-08-20T10:44:49.134702Z",
     "start_time": "2019-08-20T10:44:49.120114Z"
    }
   },
   "source": [
    "<a id='Action'></a> \n",
    "<img src=\"action.png\">"
   ]
  },
  {
   "cell_type": "markdown",
   "metadata": {},
   "source": [
    "This summary of what to do less and what to do more can be easily interpreted by the stakeholders and are very actionable."
   ]
  },
  {
   "cell_type": "markdown",
   "metadata": {},
   "source": [
    "<a id='Conclusion_and_Insights'></a>"
   ]
  },
  {
   "cell_type": "markdown",
   "metadata": {},
   "source": [
    "# 5. Conclusion and Insights</font> \n",
    "[Back to Table of Contents](#top)\n"
   ]
  },
  {
   "cell_type": "markdown",
   "metadata": {},
   "source": [
    "The study was able to predict news popularity with a 97% accuracy, 98% f1 score for unpopular articles, and 72% f1 score for popular articles using SMOTEENN and Gradient Boosting Classifier. The study was able to identify the top predictors of popular articles and the direction of each feature.\n"
   ]
  },
  {
   "cell_type": "markdown",
   "metadata": {
    "ExecuteTime": {
     "end_time": "2019-08-20T10:29:45.091175Z",
     "start_time": "2019-08-20T10:29:45.076238Z"
    }
   },
   "source": [
    "<a id='Decision Support Tool'></a> \n",
    "<img src=\"decision.png\">"
   ]
  },
  {
   "cell_type": "markdown",
   "metadata": {},
   "source": [
    "The findings of this study can be used by Mashable as a Decision Support Tool to guide its operations on engineering virality. The value of this tool is that the features used to predict the popularity can be extracted even before posting the article. This means that after going through the writing and editing process, they can test if the article will be popular using this tool. If the article will be unpopular, they have the option to edit it first guided by the insights from the SHAP summary plot. If the article is predicted to be popular, they have the option to boost the post in order to increase the chances of virality. We recommend boosting the post since the precision and recall is only 72%, which means there is still a chance that it will be incorrect 30% of the time.\n",
    "\n",
    "Ultimately, this is a very useful decision support tool that can help Mashable engineer virality."
   ]
  },
  {
   "cell_type": "markdown",
   "metadata": {},
   "source": [
    "<a id='Future_Studies'></a>"
   ]
  },
  {
   "cell_type": "markdown",
   "metadata": {},
   "source": [
    "# 6. Future Studies</font> \n",
    "[Back to Table of Contents](#top)\n"
   ]
  },
  {
   "cell_type": "markdown",
   "metadata": {},
   "source": [
    "The analysis presented in this study shows proof that online news popularity can be predicted using Machine Learning. However, it is limited within the cpntext of the articles from Mashable. Future applications of this study can be done on any company on a local or global context. It can be suggested as well to apply the same framework to a corpus of publishing companies to develop a more generalized model. \n",
    "\n",
    "Other machine learning algorithms such as xgboost and neural networks can also be used in future studies."
   ]
  },
  {
   "cell_type": "markdown",
   "metadata": {},
   "source": [
    "<a id='References'></a>"
   ]
  },
  {
   "cell_type": "markdown",
   "metadata": {},
   "source": [
    "# 7. References</font> \n",
    "[Back to Table of Contents](#top)\n"
   ]
  },
  {
   "cell_type": "markdown",
   "metadata": {},
   "source": [
    "<font size=3>\n",
    "- K. Fernandes, P. Vinagre and P. Cortez. A Proactive Intelligent Decision Support System for Predicting the Popularity of Online News. Proceedings of the 17th EPIA 2015 - Portuguese Conference on Artificial Intelligence, September, Coimbra, Portugal.<br>\n",
    "- UCI Machine Learning Repository<br>\n",
    "- Mashable<br>\n",
    "- Towards Data Science<br>"
   ]
  },
  {
   "cell_type": "markdown",
   "metadata": {
    "ExecuteTime": {
     "end_time": "2019-07-22T18:26:15.237081Z",
     "start_time": "2019-07-22T18:26:15.229292Z"
    }
   },
   "source": [
    "<a id='Acknowledgments'></a>"
   ]
  },
  {
   "cell_type": "markdown",
   "metadata": {},
   "source": [
    "# 8. Acknowledgments</font> \n",
    "[Back to Table of Contents](#top)\n"
   ]
  },
  {
   "cell_type": "markdown",
   "metadata": {
    "ExecuteTime": {
     "end_time": "2019-07-22T15:56:18.095804Z",
     "start_time": "2019-07-22T15:56:18.083047Z"
    }
   },
   "source": [
    "<font size=3>\n",
    "    \n",
    "- Prof. Christopher Monterola<br>\n",
    "- Prof. Erika Legara<br>\n",
    "- Prof. Christian Alis<br>\n",
    "- Prof. Ed David<br>\n",
    "- Gilbert Chua, Chelsea Ong, and Myin Rebanal<br>\n",
    "- Rosely Peña and Gio Fontanilla"
   ]
  },
  {
   "cell_type": "markdown",
   "metadata": {},
   "source": [
    "This research is implemented in fulfilment of the requirements of the Machine Learning course of the Master of Science in Data Science under the Asian Institute of Management."
   ]
  }
 ],
 "metadata": {
  "kernelspec": {
   "display_name": "Python 3",
   "language": "python",
   "name": "python3"
  },
  "language_info": {
   "codemirror_mode": {
    "name": "ipython",
    "version": 3
   },
   "file_extension": ".py",
   "mimetype": "text/x-python",
   "name": "python",
   "nbconvert_exporter": "python",
   "pygments_lexer": "ipython3",
   "version": "3.7.1"
  }
 },
 "nbformat": 4,
 "nbformat_minor": 2
}
